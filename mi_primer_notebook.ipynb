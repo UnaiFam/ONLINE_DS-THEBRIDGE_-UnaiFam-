{
 "cells": [
  {
   "cell_type": "markdown",
   "id": "8420215d-57b9-4cb1-b304-9fa9ee7bffc5",
   "metadata": {},
   "source": [
    "print(\"Hola mundo\")"
   ]
  },
  {
   "cell_type": "markdown",
   "id": "48e6217d-e073-429f-b209-6a28cf2fc5d4",
   "metadata": {},
   "source": [
    "Hola mundo"
   ]
  },
  {
   "cell_type": "code",
   "execution_count": null,
   "id": "1a70db6a-c5b4-433f-8de4-c85770ffc946",
   "metadata": {},
   "outputs": [],
   "source": []
  }
 ],
 "metadata": {
  "kernelspec": {
   "display_name": "Python 3 (ipykernel)",
   "language": "python",
   "name": "python3"
  },
  "language_info": {
   "codemirror_mode": {
    "name": "ipython",
    "version": 3
   },
   "file_extension": ".py",
   "mimetype": "text/x-python",
   "name": "python",
   "nbconvert_exporter": "python",
   "pygments_lexer": "ipython3",
   "version": "3.12.8"
  }
 },
 "nbformat": 4,
 "nbformat_minor": 5
}
