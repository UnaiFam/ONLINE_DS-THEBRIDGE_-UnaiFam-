{
 "cells": [
  {
   "cell_type": "markdown",
   "metadata": {
    "id": "_D0M4fdVX5Em"
   },
   "source": [
    "![TheBridge_logo_RGB_color.jpg](attachment:TheBridge_logo_RGB_color.jpg)"
   ]
  },
  {
   "cell_type": "markdown",
   "metadata": {
    "id": "tMYXcsvzX5Eq"
   },
   "source": [
    "![imagen](./img/ejercicios.png)"
   ]
  },
  {
   "cell_type": "markdown",
   "metadata": {
    "id": "A6G9y4OWX5Er"
   },
   "source": [
    "## EJERCICIOS PYTHON BASICO 3:\n",
    "## Operaciones matemáticas, comparación y booleanas"
   ]
  },
  {
   "cell_type": "markdown",
   "metadata": {
    "id": "AAAxlFayX5Es"
   },
   "source": [
    "Completa los siguiente ejercicios, la solución completa a los mismos se publicarán en el repo del curso a lo largo del sprint. En algunos ejercicios se muestra la solución final, para que puedas comprobar que lo has hecho bien, pero lo importante es el código que generes. ¡Vaaamos, a ello...!"
   ]
  },
  {
   "cell_type": "markdown",
   "metadata": {
    "id": "hbZw3dTsX5Es"
   },
   "source": [
    "![ejercicio.png](./img/ejercicio.png)\n",
    "\n",
    "\n",
    "## Ejercicio 1\n",
    "Tenemos las siguientes variables:\n",
    "\n",
    "```Python\n",
    "A = 4\n",
    "B = \"Text\"\n",
    "C = 4.1\n",
    "```\n",
    "\n",
    "Comprueba:\n",
    "1. Si A y B son equivalentes\n",
    "2. Si A y C NO son equivalentes\n",
    "3. Si A es mayor que C\n",
    "4. Si C es menor o igual que A\n",
    "5. Si B NO es equivalente a C"
   ]
  },
  {
   "cell_type": "code",
   "execution_count": 6,
   "metadata": {
    "id": "zu9QW4p7X5Et",
    "outputId": "2766dbce-0054-460a-fa74-03661ca4366e"
   },
   "outputs": [
    {
     "name": "stdout",
     "output_type": "stream",
     "text": [
      "False\n",
      "False\n",
      "False\n",
      "True\n",
      "False\n"
     ]
    }
   ],
   "source": [
    "#introduzco variables\n",
    "A = 4\n",
    "B = \"Text\"\n",
    "C = 4.1\n",
    "\n",
    "print(A == B)\n",
    "print(A == C == False)\n",
    "print(A > C)\n",
    "print(A <= C)\n",
    "print(B ==C==False)"
   ]
  },
  {
   "cell_type": "markdown",
   "metadata": {
    "id": "n0Ln45KaX5Eu"
   },
   "source": [
    "![ejercicio.png](./img/ejercicio.png)\n",
    "\n",
    "## Ejercicio 2\n",
    "Crea un programa donde se recojan dos inputs del usuario, y el output del programa sea si esos inputs son iguales o no"
   ]
  },
  {
   "cell_type": "code",
   "execution_count": 8,
   "metadata": {
    "id": "1BxZciCvX5Eu"
   },
   "outputs": [
    {
     "name": "stdout",
     "output_type": "stream",
     "text": [
      "Introduzca un numero\n"
     ]
    },
    {
     "name": "stdin",
     "output_type": "stream",
     "text": [
      " 5\n"
     ]
    },
    {
     "name": "stdout",
     "output_type": "stream",
     "text": [
      "Introduzca un numero\n"
     ]
    },
    {
     "name": "stdin",
     "output_type": "stream",
     "text": [
      " 4\n"
     ]
    },
    {
     "name": "stdout",
     "output_type": "stream",
     "text": [
      "Ambos son distintos\n"
     ]
    }
   ],
   "source": [
    "print(\"Introduzca un numero\")\n",
    "numero_1=input()\n",
    "#sustituidor de comas\n",
    "numero_1_=numero_1.replace(\",\", \".\")\n",
    "#paso a float por si meten comas\n",
    "numero_1_f=float(numero_1_)\n",
    "\n",
    "#copio el codigo de arriba\n",
    "print(\"Introduzca otro numero\")\n",
    "numero_2=input()\n",
    "#sustituidor de comas\n",
    "numero_2_=numero_2.replace(\",\", \".\")\n",
    "#paso a float por si meten comas\n",
    "numero_2_f=float(numero_2_)\n",
    "#comparador\n",
    "comparacion= numero_1_f==numero_2_f\n",
    "if comparacion==True:\n",
    "    print(\"Ambos son iguales\")\n",
    "else:\n",
    "    print(\"Son numeros distintos\")"
   ]
  },
  {
   "cell_type": "markdown",
   "metadata": {
    "id": "AvavYMozX5Ev"
   },
   "source": [
    "![ejercicio.png](./img/ejercicio.png)\n",
    "\n",
    "## Ejercicio 3\n",
    "Mismo programa que en 2, pero en esta ocasión tienen que ser tres inputs y dos salidas. Una de las salidas que nos indique si todos son iguales, y la otra si al menos dos inputs sí que lo son"
   ]
  },
  {
   "cell_type": "code",
   "execution_count": 11,
   "metadata": {
    "id": "EZQSVKlBX5Ev",
    "outputId": "dd75f544-f15e-4904-e8fd-7b9f791f214c"
   },
   "outputs": [
    {
     "name": "stdout",
     "output_type": "stream",
     "text": [
      "Introduzca un numero\n"
     ]
    },
    {
     "name": "stdin",
     "output_type": "stream",
     "text": [
      " 1\n"
     ]
    },
    {
     "name": "stdout",
     "output_type": "stream",
     "text": [
      "Introduzca otro numero\n"
     ]
    },
    {
     "name": "stdin",
     "output_type": "stream",
     "text": [
      " 2\n"
     ]
    },
    {
     "name": "stdout",
     "output_type": "stream",
     "text": [
      "Introduzca un tercer numero\n"
     ]
    },
    {
     "name": "stdin",
     "output_type": "stream",
     "text": [
      " 3\n"
     ]
    },
    {
     "name": "stdout",
     "output_type": "stream",
     "text": [
      "Son numeros distintos\n"
     ]
    }
   ],
   "source": [
    "print(\"Introduzca un numero\")\n",
    "numero_1=input()\n",
    "#sustituidor de comas\n",
    "numero_1_=numero_1.replace(\",\", \".\")\n",
    "#paso a float por si meten comas\n",
    "numero_1_f=float(numero_1_)\n",
    "\n",
    "#copio el codigo de arriba\n",
    "print(\"Introduzca otro numero\")\n",
    "numero_2=input()\n",
    "#sustituidor de comas\n",
    "numero_2_=numero_2.replace(\",\", \".\")\n",
    "#paso a float por si meten comas\n",
    "numero_2_f=float(numero_2_)\n",
    "\n",
    "#copio el codigo de arriba\n",
    "print(\"Introduzca un tercer numero\")\n",
    "numero_3=input()\n",
    "#sustituidor de comas\n",
    "numero_3_=numero_3.replace(\",\", \".\")\n",
    "#paso a float por si meten comas\n",
    "numero_3_f=float(numero_3_)\n",
    "\n",
    "#comparador\n",
    "comparacion= numero_1_f==numero_2_f==numero_3_f\n",
    "if comparacion==True:\n",
    "    print(\"Todos son iguales\")\n",
    "elif numero_1_f==numero_2_f:\n",
    "    print(\"Los dos primeros son iguales\")\n",
    "    \n",
    "elif numero_3_f==numero_2_f:\n",
    "    print(\"Los dos ultimos son iguales\")\n",
    "\n",
    "elif numero_3_f==numero_1_f:\n",
    "    print(\"El primero y el tercero eran iguales\")\n",
    "\n",
    "else:\n",
    "    print(\"Son numeros distintos\")"
   ]
  },
  {
   "cell_type": "markdown",
   "metadata": {
    "id": "MypUYltUX5Ew"
   },
   "source": [
    "![ejercicio.png](./img/ejercicio.png)\n",
    "\n",
    "## Ejercicio 4\n",
    "Razona sin ejecutar código el output que obtendremos de las siguientes sentencias\n",
    "1. True and True and False\n",
    "2. not ((True or False) and (True or False))\n",
    "3. (False or False or False or True) and False\n",
    "4. not False and True and not True"
   ]
  },
  {
   "cell_type": "markdown",
   "metadata": {
    "id": "_fa4AY9KX5Ew"
   },
   "source": [
    "1. Saldra falso ya que hay un argumento falso\n",
    "2. Saldra falso. La primera parte es como si fuese False, y la siguente ees un True\n",
    "3. La primera parte es True, y luego con el and y False saldra False\n",
    "4. Seria \"True and True and False\", por lo que seria falso"
   ]
  }
 ],
 "metadata": {
  "colab": {
   "provenance": []
  },
  "kernelspec": {
   "display_name": "Python 3 (ipykernel)",
   "language": "python",
   "name": "python3"
  },
  "language_info": {
   "codemirror_mode": {
    "name": "ipython",
    "version": 3
   },
   "file_extension": ".py",
   "mimetype": "text/x-python",
   "name": "python",
   "nbconvert_exporter": "python",
   "pygments_lexer": "ipython3",
   "version": "3.12.8"
  }
 },
 "nbformat": 4,
 "nbformat_minor": 4
}
