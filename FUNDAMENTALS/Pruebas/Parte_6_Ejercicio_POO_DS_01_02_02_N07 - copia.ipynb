{
 "cells": [
  {
   "cell_type": "markdown",
   "metadata": {
    "id": "vigJnuAMSU4x"
   },
   "source": [
    "![TheBridge_logo_RGB_color.jpg](attachment:TheBridge_logo_RGB_color.jpg)"
   ]
  },
  {
   "cell_type": "markdown",
   "metadata": {
    "id": "2xmnwM17SU4y"
   },
   "source": [
    "![ejercicios.png](attachment:ejercicios.png)"
   ]
  },
  {
   "cell_type": "markdown",
   "metadata": {
    "id": "liorA-1ZSU4y"
   },
   "source": [
    "# Ejercicios Clases y Objetos"
   ]
  },
  {
   "cell_type": "markdown",
   "metadata": {
    "id": "5xXUz5l9SU4z"
   },
   "source": [
    "## Ejercicio 1\n",
    "Somos una empresa que tiene varias tiendas de electrodomesticos. Necesitamos un programa para manejar las tiendas, ver las ventas que han tenido, cuántos empleados hay, etc... Para ello vamos a modelizar la tienda en una clase, que tendrá las siguientes características:\n",
    "* Nombre clase: \"Tienda\"\n",
    "* Atributos comunes:\n",
    "    * Tipo: \"Electrodomésticos\"\n",
    "    * Abierta: True\n",
    "* Atributos propios de cada tienda:\n",
    "    * Nombre - String\n",
    "    * Dirección - String\n",
    "    * Número de empleados - int\n",
    "    * Ventas ultimos 3 meses - Lista de 3 numeros\n",
    "* Método para calcular las ventas de todos los meses, que devuelva un numero con todas las ventas.\n",
    "* Método que calcula la media de ventas de los ultimos meses, por empleado\n",
    "* Método que devuelve en un string el nombre de la tienda, junto con su dirección.\n",
    "* Método que obtiene las ventas del último mes.\n",
    "* Método para dar una proyección de las ventas en caso de haber invertido X dinero en marketing en esa tienda. Siendo X el parámetro de entrada. Si X es menor de 1000, las ventas de los ultimos 3 meses hubiesen sido de (1.2 x ventas), si es mayor o igual de 1000, las ventas hubiesen sido de (1.5 x venta). El método reescribe el atributo de ventas en los últimos 3 meses, y además devuelve las ventas con el aumento.\n",
    "\n",
    "Se pide:\n",
    "1. Implementar la clase \"Tienda\"\n",
    "2. Crear tres tiendas con datos inventados\n",
    "3. Comprueba en al menos una de ellas, todo lo implementado en la clase tienda (sus atributos, media de ventas, ventas/empleado...)\n",
    "3. Calcular las ventas del último mes de todas las tiendas. Para ello usa el bucle `for`\n",
    "4. Imprime por pantalla los nombres de las tiendas cuya dirección lleve el string \"Avenida\"\n",
    "5. Seguro que ya has hecho este apartado... Documenta la clase :)"
   ]
  },
  {
   "cell_type": "code",
   "execution_count": 60,
   "metadata": {
    "id": "5cLQcLxfSU4z"
   },
   "outputs": [],
   "source": [
    "#Hago una lista de los pbjetos para regitrar los nombres\n",
    "tiendas_list=[]\n",
    "tiendas_dir=[]\n",
    "\n",
    "class Tienda:\n",
    "    Tipo=\"Electrodomésticos\"\n",
    "    Abierta=True\n",
    "    def __init__ (self , Nombre, Direccion, Empleados, Ventas):\n",
    "        self.nombre =Nombre\n",
    "        self.direccion=Direccion\n",
    "        self.Empleados=Empleados\n",
    "        self.Ventas=Ventas\n",
    "        tiendas_list.append(self.nombre)\n",
    "        tiendas_dir.append(self.direccion)\n",
    "        \n",
    "        \n",
    "    \n",
    "Manolo =Tienda(\"Manolo\", \"Avenida\" , 15, [100, 85, 140])\n",
    "Maria =Tienda(\"Maria\", \"Calle sin Salida 3\", 20, [120, 100, 160])\n",
    "Pedro =Tienda(\"Pedro\", \"Plaza Redonda 7\", 10, [70, 90, 100])\n",
    "\n",
    "def stat_tienda (self):\n",
    "    print(\"Nombre:\", self.nombre)\n",
    "    print(\"Tipo de tienda:\", self.Tipo)\n",
    "    print(\"Abierto:\", self.Abierta)\n",
    "    print(\"Dirección:\", self.direccion)\n",
    "    print(\"Nº de empleados,\", self.Empleados)\n",
    "    print(\"Nº de ventas en los ultimos 3 meses\", self.Ventas)\n",
    "\n",
    "\n",
    "def venta_trimestre (self): \n",
    "    ventas3=0\n",
    "    for venta in self.Ventas:\n",
    "        ventas3+=venta\n",
    "    print(\"Ventas totales en los ultimos tres meses\",ventas3)\n",
    "\n",
    "def venta_empleado(self):\n",
    "    ventas3=0\n",
    "    for venta in self.Ventas:\n",
    "        ventas3+=venta\n",
    "    media_venta_emp=ventas3/self.Empleados\n",
    "    print(\"La media de ventas por empleado en los ultimos tres meses es:\", media_venta_emp)\n",
    "\n",
    "def venta_last(self):\n",
    "    print(\"El ultimo mes la tienda):\", self.nombre, \"ha realizado:\", self.Ventas[-1], \"ventas\")\n",
    "\n",
    "def proyeccion(self):\n",
    "    X=int(input(\"Introduzca inversion en marketing\"))\n",
    "    ventas3=0\n",
    "    \n",
    "    for venta in self.Ventas:\n",
    "        ventas3+=venta\n",
    "    if X>=1000:\n",
    "        multi=1.5\n",
    "    else:\n",
    "        multi=1.2\n",
    "        \n",
    "    proyeccion= ventas3*multi\n",
    "    self.Ventas=proyeccion\n",
    "    print(\"Se preveen\",proyeccion, \"ventas\")\n",
    "    return proyeccion\n",
    "\n",
    "\n",
    "\n",
    "#for key, value in repeticiones.items():\n",
    " #   if value !=0:\n",
    "  #      print(key, \":\", value, \"indice:\", ejer_3.index(key)+1)\n",
    "    \n",
    "###\n",
    "#'''    \n",
    "#stat_tienda(Manolo)\n",
    "\n",
    "#venta_trimestre(Manolo)\n",
    "#venta_empleado(Manolo)\n",
    "#venta_last(Manolo)\n",
    "\n",
    "#proyeccion(Manolo)\n",
    "#stat_tienda(Manolo)\n",
    "#'''\n",
    "###"
   ]
  },
  {
   "cell_type": "code",
   "execution_count": 52,
   "metadata": {},
   "outputs": [
    {
     "name": "stdout",
     "output_type": "stream",
     "text": [
      "Nombre: Manolo\n",
      "Tipo de tienda: Electrodomésticos\n",
      "Abierto: True\n",
      "Dirección: Avenida Falsa123\n",
      "Nº de empleados, 15\n",
      "Nº de ventas en los ultimos 3 meses [100, 85, 140]\n",
      "El ultimo mes la tienda): Manolo ha realizado: 140 ventas\n"
     ]
    }
   ],
   "source": [
    "stat_tienda(Manolo)\n",
    "venta_last(Manolo)\n",
    "\n"
   ]
  },
  {
   "cell_type": "code",
   "execution_count": 64,
   "metadata": {},
   "outputs": [
    {
     "name": "stdout",
     "output_type": "stream",
     "text": [
      "Las tiendas con una avenida son las tiendas: Manolo\n"
     ]
    }
   ],
   "source": [
    "Avenida=\"Avenida\"\n",
    "contador=0\n",
    "\n",
    "for i in tiendas_dir:\n",
    "    if Avenida != i:\n",
    "        contador+1\n",
    "    else:\n",
    "        print( \"Las tiendas con una avenida son las tiendas:\", tiendas_list[contador])\n",
    "        "
   ]
  },
  {
   "cell_type": "code",
   "execution_count": null,
   "metadata": {},
   "outputs": [],
   "source": []
  },
  {
   "cell_type": "markdown",
   "metadata": {
    "id": "WEBq7EpsSU40"
   },
   "source": [
    "## Ejercicio 2\n",
    "En este ejercicio vamos a implementar una clase *Perro* en Python. La clase tiene las siguientes características:\n",
    "* Cosas que sabemos seguro que tiene un perro\n",
    "    * Tiene 4 patas\n",
    "    * 2 orejas\n",
    "    * 2 ojos\n",
    "    * Una velocidad de 0. Por defecto, el perro está parado\n",
    "* Cuando se inicialice:\n",
    "    * El perro será de una determinada raza\n",
    "    * Por defecto tendrá pelo \"Marrón\", a no ser que se diga lo contrario.\n",
    "    * Por defecto no tendrá dueño, a no ser que se diga lo contrario.\n",
    "    \n",
    "* Dispondrá también de un método llamado andar, que tiene un argumento de entrada (aumento_velocidad). Este valor se le sumará a la velocidad que ya llevaba el perro.\n",
    "* Necesita otro método (parar), donde pondremos la velocidad a 0.\n",
    "* Otro método llamado \"ladrar\", que tendrá un argumento de entrada, y la salida será el siguiente string: \"GUAU!\" + el argumento de entrada.\n",
    "\n",
    "\n",
    "Se pide:\n",
    "* Implementa la clase *Perro*\n",
    "* Crea un objeto de tipo *Perro*, sin dueño\n",
    "* Comprueba que están bien todos sus atributos\n",
    "* Prueba que ande, y comprueba su velocidad\n",
    "* Páralo\n",
    "* Documenta la clase *Perro*"
   ]
  },
  {
   "cell_type": "code",
   "execution_count": 91,
   "metadata": {
    "id": "DpEWvbwGSU40"
   },
   "outputs": [],
   "source": [
    "class Perro():\n",
    "    Patas=4\n",
    "    Orejas=2\n",
    "    Ojos=2\n",
    "    Velocidad=0\n",
    "    pelo=\"Marron\"\n",
    "    dueño=(None)\n",
    "    \n",
    "\n",
    "    def __init__(self, Nombre, raza):\n",
    "        self.nombre =Nombre\n",
    "        self.raza=raza\n",
    "\n",
    "def stat_perro(self):\n",
    "    print(\"Nombre\", self.nombre)\n",
    "    print(\"Patas:\", self.Patas)\n",
    "    print(\"Orejas:\", self.Orejas)\n",
    "    print(\"Ojos:\", self.Ojos)\n",
    "    print(\"Dueño:\", self.dueño)\n",
    "    print(\"Pelo\", self.pelo)\n",
    "    \n",
    "    print(\"Raza\", self.raza)\n",
    "    print(\"Velocidad\", self.Velocidad)\n",
    "\n",
    "\n",
    "\n",
    "\n",
    "def andar(self):\n",
    "    vel=input()\n",
    "    self.Velocidad=(self.Velocidad+int(vel))\n",
    "    \n",
    "def velocimetro(self):\n",
    "    print(\"La velocidad de:\", self.nombre, \"es de:\", self.Velocidad)\n",
    "    \n",
    "Rex=Perro(\"Rex\", \"Pastor aleman\")\n",
    "\n",
    "def parar(self):\n",
    "    self.Velocidad=0\n",
    "    \n",
    "\n",
    "\n",
    "def ladrar(i):\n",
    "    in_=input()\n",
    "    print(\"GUAU!\" + in_)\n",
    "\n",
    "Toby=Perro(\"Toby\", \"Chiaua\")\n",
    "Indiana =Perro(\"Indiana\", \"Border Colie\")\n",
    "\n",
    "Indiana.dueño= \"Henry\"\n",
    "Indiana.pelo=\"negro\"\n",
    "\n"
   ]
  },
  {
   "cell_type": "code",
   "execution_count": 79,
   "metadata": {},
   "outputs": [
    {
     "name": "stdin",
     "output_type": "stream",
     "text": [
      " l\n"
     ]
    },
    {
     "name": "stdout",
     "output_type": "stream",
     "text": [
      "GUAU!l\n"
     ]
    }
   ],
   "source": [
    "ladrar(Rex)"
   ]
  },
  {
   "cell_type": "code",
   "execution_count": 81,
   "metadata": {},
   "outputs": [
    {
     "name": "stdout",
     "output_type": "stream",
     "text": [
      "Nombre Rex\n",
      "Patas: 4\n",
      "Orejas: 2\n",
      "Ojos: 2\n",
      "Dueño: None\n",
      "Pelo Marron\n",
      "Raza Pastor aleman\n",
      "Velocidad 0\n",
      "Nombre Toby\n",
      "Patas: 4\n",
      "Orejas: 2\n",
      "Ojos: 2\n",
      "Dueño: None\n",
      "Pelo Marron\n",
      "Raza Chiaua\n",
      "Velocidad 0\n",
      "Nombre Indiana\n",
      "Patas: 4\n",
      "Orejas: 2\n",
      "Ojos: 2\n",
      "Dueño: Henry\n",
      "Pelo negro\n",
      "Raza Border Colie\n",
      "Velocidad 0\n"
     ]
    }
   ],
   "source": [
    "stat_perro(Rex)\n",
    "\n",
    "stat_perro(Toby)\n",
    "\n",
    "stat_perro(Indiana)"
   ]
  },
  {
   "cell_type": "code",
   "execution_count": 92,
   "metadata": {},
   "outputs": [
    {
     "name": "stdin",
     "output_type": "stream",
     "text": [
      " 90\n"
     ]
    },
    {
     "name": "stdout",
     "output_type": "stream",
     "text": [
      "La velocidad de: Rex es de: 90\n",
      "La velocidad de: Rex es de: 0\n"
     ]
    }
   ],
   "source": [
    "andar(Rex)\n",
    "velocimetro(Rex)\n",
    "parar(Rex)\n",
    "velocimetro(Rex)\n",
    "\n"
   ]
  }
 ],
 "metadata": {
  "colab": {
   "provenance": []
  },
  "kernelspec": {
   "display_name": "Python 3 (ipykernel)",
   "language": "python",
   "name": "python3"
  },
  "language_info": {
   "codemirror_mode": {
    "name": "ipython",
    "version": 3
   },
   "file_extension": ".py",
   "mimetype": "text/x-python",
   "name": "python",
   "nbconvert_exporter": "python",
   "pygments_lexer": "ipython3",
   "version": "3.12.8"
  }
 },
 "nbformat": 4,
 "nbformat_minor": 4
}
