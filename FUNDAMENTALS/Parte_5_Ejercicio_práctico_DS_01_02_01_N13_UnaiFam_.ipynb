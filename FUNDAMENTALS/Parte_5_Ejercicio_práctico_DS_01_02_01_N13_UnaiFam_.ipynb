{
 "cells": [
  {
   "cell_type": "markdown",
   "metadata": {
    "id": "9l3HMgm6RWxF"
   },
   "source": [
    "![TheBridge_logo_RGB_color.jpg](attachment:TheBridge_logo_RGB_color.jpg)"
   ]
  },
  {
   "cell_type": "markdown",
   "metadata": {
    "id": "RGg9iWpoRWxG"
   },
   "source": [
    "![ejercicios.png](attachment:ejercicios.png)"
   ]
  },
  {
   "cell_type": "markdown",
   "metadata": {
    "id": "AyOlWS2nRWxH"
   },
   "source": [
    "## PRACTICA OBLIGATORIA: COLECCIONES Y FUNCIONES"
   ]
  },
  {
   "cell_type": "markdown",
   "metadata": {
    "id": "6UOgb0KVRWxH"
   },
   "source": [
    "* La práctica obligatoria de esta unidad consiste varios ejercicios de programación libre a completar sobre Colecciones y Funciones. Descarga este notebook en tu ordenador y trabaja en local.  \n",
    "* Recuerda que debes subirla a tu repositorio personal antes de la sesión en vivo para que puntúe adecuadamente y puedas participar en dicha sesión.  \n",
    "* Recuerda también que no es necesario que esté perfecta, sólo es necesario que se vea el esfuerzo.\n",
    "* Esta práctica se resolverá en la sesión en vivo correspondiente y la solución se publicará en el repo del curso."
   ]
  },
  {
   "cell_type": "markdown",
   "metadata": {
    "id": "j3yu-tEjRWxH"
   },
   "source": [
    "### Contenidos"
   ]
  },
  {
   "cell_type": "markdown",
   "metadata": {
    "id": "kO-fLH39RWxH"
   },
   "source": [
    "## Ejercicio 1\n",
    "Eleva todos los elementos de la lista al cuadrado\n",
    "> ```ejer_2 = [1,2,3,4,5]```"
   ]
  },
  {
   "cell_type": "code",
   "execution_count": 1,
   "metadata": {
    "id": "ks5l3yi7RWxH"
   },
   "outputs": [
    {
     "name": "stdout",
     "output_type": "stream",
     "text": [
      "1\n",
      "4\n",
      "9\n",
      "16\n",
      "25\n"
     ]
    }
   ],
   "source": [
    "ejer_2 = [1,2,3,4,5]\n",
    "\n",
    "lista2=[]\n",
    "for i in ejer_2:\n",
    "    print(i**2)\n",
    "\n",
    "\n"
   ]
  },
  {
   "cell_type": "code",
   "execution_count": 4,
   "metadata": {},
   "outputs": [
    {
     "ename": "TypeError",
     "evalue": "'list' object is not callable",
     "output_type": "error",
     "traceback": [
      "\u001b[1;31m---------------------------------------------------------------------------\u001b[0m",
      "\u001b[1;31mTypeError\u001b[0m                                 Traceback (most recent call last)",
      "Cell \u001b[1;32mIn[4], line 5\u001b[0m\n\u001b[0;32m      3\u001b[0m lista2\u001b[38;5;241m=\u001b[39m[]\n\u001b[0;32m      4\u001b[0m \u001b[38;5;28;01mfor\u001b[39;00m i \u001b[38;5;129;01min\u001b[39;00m ejer_2:\n\u001b[1;32m----> 5\u001b[0m     \u001b[43mejer_2\u001b[49m\u001b[43m(\u001b[49m\u001b[43mi\u001b[49m\u001b[38;5;241;43m*\u001b[39;49m\u001b[38;5;241;43m*\u001b[39;49m\u001b[38;5;241;43m2\u001b[39;49m\u001b[43m)\u001b[49m\n\u001b[0;32m      7\u001b[0m \u001b[38;5;28mprint\u001b[39m(ejer_2)\n",
      "\u001b[1;31mTypeError\u001b[0m: 'list' object is not callable"
     ]
    }
   ],
   "source": [
    "ejer_2 = [1,2,3,4,5]\n",
    "\n",
    "lista2=[]\n",
    "for i in ejer_2:\n",
    "    ejer_2(i**2)\n",
    "\n",
    "print(ejer_2)\n",
    "\n"
   ]
  },
  {
   "cell_type": "markdown",
   "metadata": {
    "id": "kI_Xr5oFRWxI"
   },
   "source": [
    "## Ejercicio 2\n",
    "Haz un programa que detecte todos los duplicados de un elemento en una lista:\n",
    "* Utiliza una variable duplicado para asignarle el valor del elemento del que queremos encontrar todos sus duplicados.\n",
    "* El programa debe devolver todos los índices de los elementos duplicados.\n",
    "* Aplícalo para encontrar los duplicados de \"un\", \"es\" y \"binario\" de:  \n",
    "\n",
    ">```ejer_3 = [\"Un\", \"árbol\", \"binario\", \"es\", \"una\", \"estructura\", \"de\", \"un\", \"tipo\", \"particular\", \"a\", \"veces\", \"no\", \"es\", \"ni\", \"binario\"]```\n"
   ]
  },
  {
   "cell_type": "code",
   "execution_count": 114,
   "metadata": {
    "id": "cLY9WB7YRWxI",
    "scrolled": true
   },
   "outputs": [
    {
     "name": "stdout",
     "output_type": "stream",
     "text": [
      "binario : 1 indice: 3\n",
      "es : 1 indice: 4\n"
     ]
    }
   ],
   "source": [
    "ejer_3 = [\"Un\", \"árbol\", \"binario\", \"es\", \"una\", \"estructura\", \"de\", \"un\", \"tipo\", \"particular\", \"a\", \"veces\", \"no\", \"es\", \"ni\", \"binario\"]\n",
    "\n",
    "repeticiones={}\n",
    "\n",
    "ejer_3.index(\"binario\")\n",
    "\n",
    "\n",
    "#Suponniendo Un y un son distintos..\n",
    "for i in ejer_3:\n",
    "    if i in repeticiones:\n",
    "        repeticiones[i]+=1\n",
    "    else:\n",
    "        repeticiones[i]=0\n",
    "        \n",
    "        \n",
    "   \n",
    "for key, value in repeticiones.items():\n",
    "    if value !=0:\n",
    "        print(key, \":\", value, \"indice:\", ejer_3.index(key)+1)\n",
    "\n"
   ]
  },
  {
   "cell_type": "code",
   "execution_count": null,
   "metadata": {},
   "outputs": [],
   "source": []
  },
  {
   "cell_type": "markdown",
   "metadata": {
    "id": "3WrBd5QaRWxI"
   },
   "source": [
    "## Ejercicio 3\n",
    "1. ¿Cuántas veces se repite el 3 en la siguiente tupla?\n",
    "2. Crea una tupla nueva con los elementos desde la posicion 5 a la 10.\n",
    "3. ¿Cuántos elementos tiene la tupla `ejer_3`?\n",
    "> ```ejer_9 = (3, 20, 3, 47, 19, 3, 29, 45, 67, 78, 90, 3, 3, 5, 2, 4, 7, 9, 4, 2, 4, 3, 3, 4, 6, 7)```"
   ]
  },
  {
   "cell_type": "code",
   "execution_count": 127,
   "metadata": {
    "id": "bkv_R5LYRWxI"
   },
   "outputs": [
    {
     "name": "stdout",
     "output_type": "stream",
     "text": [
      "3 se repite 6\n",
      "(3, 29, 45, 67, 78, 90)\n",
      "6\n"
     ]
    }
   ],
   "source": [
    "ejer_9 = (3, 20, 3, 47, 19, 3, 29, 45, 67, 78, 90, 3, 3, 5, 2, 4, 7, 9, 4, 2, 4, 3, 3, 4, 6, 7)\n",
    "\n",
    "\n",
    "repeticiones={}\n",
    "\n",
    "for i in ejer_9:\n",
    "    if i in repeticiones:\n",
    "        repeticiones[i]+=1\n",
    "    else:\n",
    "        repeticiones[i]=0\n",
    "        \n",
    "for key, value in repeticiones.items():\n",
    "    if key ==3:\n",
    "        print(key, \"se repite\", value)\n",
    "        \n",
    "tupla_2=ejer_9[5:11]\n",
    "    \n",
    "#print(ejer_9)\n",
    "print(tupla_2)\n",
    "print(len(tupla_2)) #los elementos repetios no cuentan en la tupla"
   ]
  },
  {
   "cell_type": "markdown",
   "metadata": {
    "id": "6g8Y54AeRWxI"
   },
   "source": [
    "## Ejercicio 4\n",
    "Comprueba si el numero 60 esta en la tupla del ejercicio 3"
   ]
  },
  {
   "cell_type": "code",
   "execution_count": 79,
   "metadata": {
    "id": "F8VTEZonRWxI"
   },
   "outputs": [
    {
     "name": "stdout",
     "output_type": "stream",
     "text": [
      "No es el numero 60\n"
     ]
    }
   ],
   "source": [
    "ejer_9 = (3, 20, 3, 47, 19, 3, 29, 45, 67, 78, 90, 3, 3, 5, 2, 4, 7, 9, 4, 2, 4, 3, 3, 4, 6, 7)\n",
    "\n",
    "if 60 in ejer_9:\n",
    "    print(\"esta el numero 60\")\n",
    "else:\n",
    "    print(\"No esta el numero 60\")"
   ]
  },
  {
   "cell_type": "markdown",
   "metadata": {
    "id": "y0fg-ZA6RWxI"
   },
   "source": [
    "## Ejercicio 5\n",
    "1. Convierte la tupla del ejercicio 3 en una lista\n",
    "2. Convierte la tupla del ejercicio 3 en un set\n",
    "3. Convierte la tupla del ejercicio 3 en un diccionario. Usa también los indices"
   ]
  },
  {
   "cell_type": "code",
   "execution_count": 159,
   "metadata": {
    "id": "_O5hXr01RWxI"
   },
   "outputs": [
    {
     "name": "stdout",
     "output_type": "stream",
     "text": [
      "0\n",
      "[3, 20, 3, 47, 19, 3, 29, 45, 67, 78, 90, 3, 3, 5, 2, 4, 7, 9, 4, 2, 4, 3, 3, 4, 6, 7] 26 <class 'list'>\n",
      "{2, 3, 67, 5, 4, 7, 6, 9, 45, 78, 47, 19, 20, 90, 29} 15 <class 'set'>\n",
      "{3: 0, 20: 1, 47: 3, 19: 4, 29: 6, 45: 7, 67: 8, 78: 9, 90: 10, 5: 13, 2: 14, 4: 15, 7: 16, 9: 17, 6: 24} 15 <class 'dict'>\n"
     ]
    }
   ],
   "source": [
    "ejer_9 = (3, 20, 3, 47, 19, 3, 29, 45, 67, 78, 90, 3, 3, 5, 2, 4, 7, 9, 4, 2, 4, 3, 3, 4, 6, 7)\n",
    "\n",
    "print(ejer_9.index(3))\n",
    "\n",
    "lista = []\n",
    "for i in range(len(ejer_9)):\n",
    "\tlista.append(ejer_9[i])\n",
    "print(lista, len(lista), type(lista))\n",
    "\n",
    "set_=set(ejer_9)\n",
    "print(set_, len(set_), type(set_))\n",
    "\n",
    "dicc={}\n",
    "for i in ejer_9:\n",
    "    dicc[i]= ejer_9.index(i)\n",
    "\n",
    "print(dicc, len(dicc), type(dicc))  "
   ]
  },
  {
   "cell_type": "markdown",
   "metadata": {
    "id": "eOdWWbxvRWxJ"
   },
   "source": [
    "## Ejercicio 6\n",
    "Multiplica todos los valores del diccionario\n",
    "> ```ejer_6 = {1: 11, 2: 22, 3: 33, 4: 44, 5: 55}```"
   ]
  },
  {
   "cell_type": "code",
   "execution_count": 172,
   "metadata": {
    "id": "KcuByovKRWxJ"
   },
   "outputs": [
    {
     "name": "stdout",
     "output_type": "stream",
     "text": [
      "[11, 44, 99, 176, 275]\n"
     ]
    }
   ],
   "source": [
    "ejer_6 = {1: 11, 2: 22, 3: 33, 4: 44, 5: 55}\n",
    "lista_=[]\n",
    "for key,values in ejer_6.items():\n",
    "    lista_.append(key*values)\n",
    "\n",
    "print(lista_)\n",
    "\n"
   ]
  },
  {
   "cell_type": "markdown",
   "metadata": {
    "id": "W7TUSaKRRWxJ"
   },
   "source": [
    "## Ejercicio 7\n",
    "\n",
    "1. Crea un diccionario que describa un libro, con los siguientes campos o claves: \"titulo\",\"autor\",\"idioma original\",\"año de publicación\".\n",
    "2. Crea un a lista, llamada librería.\n",
    "3. Añade cuatro libros a tu elección a la librería."
   ]
  },
  {
   "cell_type": "code",
   "execution_count": 11,
   "metadata": {
    "id": "d-IMRvxRRWxJ",
    "vscode": {
     "languageId": "plaintext"
    }
   },
   "outputs": [
    {
     "name": "stdout",
     "output_type": "stream",
     "text": [
      "{'titulo': 'El último pasajero', 'autor': 'Manel Loureiro', 'idioma original': 'Español', 'año de publicación': '2013'}\n",
      "[{'titulo': 'El último pasajero', 'autor': 'Manel Loureiro', 'idioma original': 'Español', 'año de publicación': '2013'}, {'titulo': 'Las tres vidas de Sofonisba', 'autor': 'Jose Docavo Alberti ', 'idioma original': 'Español', 'año de publicación': '2024'}, {'titulo': 'El alma de las flores', 'autor': 'Viviana Rivero', 'idioma original': 'Español', 'año de publicación': '2020'}, {'titulo': 'El brillo de las luciérnagas', 'autor': 'Paul Pen', 'idioma original': 'Español', 'año de publicación': '2013'}]\n"
     ]
    }
   ],
   "source": [
    "\"\"\"\n",
    "dict_1={\"titulo\":\"\",  \n",
    "        \"autor\":\"\",  \n",
    "        \"idioma original\":\"\",  \n",
    "        \"año de publicación\":\"\"}\n",
    "\"\"\"\n",
    "libreria=[]\n",
    "libro1={\"titulo\":\"El último pasajero\",  \n",
    "        \"autor\":\"Manel Loureiro\",  \n",
    "        \"idioma original\":\"Español\",  \n",
    "        \"año de publicación\":\"2013\"}\n",
    "print(libro1)\n",
    "libreria.append(libro1)\n",
    "\n",
    "libro2={\"titulo\":\"Las tres vidas de Sofonisba\",  \n",
    "        \"autor\":\"Jose Docavo Alberti \",  \n",
    "        \"idioma original\":\"Español\",  \n",
    "        \"año de publicación\":\"2024\"}\n",
    "libreria.append(libro2)\n",
    "\n",
    "libro3={\"titulo\":\"El alma de las flores\",  \n",
    "        \"autor\":\"Viviana Rivero\",  \n",
    "        \"idioma original\":\"Español\",  \n",
    "        \"año de publicación\":\"2020\"}\n",
    "libreria.append(libro3)\n",
    "\n",
    "libro4={\"titulo\":\"El brillo de las luciérnagas\",  \n",
    "        \"autor\":\"Paul Pen\",  \n",
    "        \"idioma original\":\"Español\",  \n",
    "        \"año de publicación\":\"2013\"}\n",
    "libreria.append(libro4)\n",
    "\n",
    "print(libreria)"
   ]
  },
  {
   "cell_type": "markdown",
   "metadata": {
    "id": "glMoedjYRWxJ"
   },
   "source": [
    "## Ejercicio 8\n",
    "Modifica los valores del idioma de todos los libros del ejercicio anterior para que sea \"esperanto\"\n"
   ]
  },
  {
   "cell_type": "code",
   "execution_count": 12,
   "metadata": {
    "id": "veNdC-uwRWxJ"
   },
   "outputs": [
    {
     "name": "stdout",
     "output_type": "stream",
     "text": [
      "[{'titulo': 'El último pasajero', 'autor': 'Manel Loureiro', 'idioma original': 'Esperanto', 'año de publicación': '2013'}, {'titulo': 'Las tres vidas de Sofonisba', 'autor': 'Jose Docavo Alberti ', 'idioma original': 'Esperanto', 'año de publicación': '2024'}, {'titulo': 'El alma de las flores', 'autor': 'Viviana Rivero', 'idioma original': 'Esperanto', 'año de publicación': '2020'}, {'titulo': 'El brillo de las luciérnagas', 'autor': 'Paul Pen', 'idioma original': 'Esperanto', 'año de publicación': '2013'}]\n"
     ]
    }
   ],
   "source": [
    "for libros in libreria:\n",
    "  #busco los libros\n",
    "    #print(libros)\n",
    "    #de entre los libros \n",
    "    libros[\"idioma original\"]=\"Esperanto\"\n",
    "    # if i==\"Español\":\n",
    "        #a[i]=\"esperanto\"\n",
    "\n",
    "\n",
    "\n",
    "print(libreria)"
   ]
  },
  {
   "cell_type": "markdown",
   "metadata": {
    "id": "DRCJG04KRWxJ"
   },
   "source": [
    "## Ejercicio 9\n",
    "1. Escribe un programa que dada una variable titulo busque los libros que hay en la librería con ese título. Si no se encuentra debe devolver el mensaje `Ese no lo tengo, ¿mola?`\n",
    "2. Pruena que el programa con uno de tus libros y con otro que no contenga tu librería."
   ]
  },
  {
   "cell_type": "code",
   "execution_count": 78,
   "metadata": {},
   "outputs": [
    {
     "name": "stdout",
     "output_type": "stream",
     "text": [
      "Dime un libro\n"
     ]
    },
    {
     "name": "stdin",
     "output_type": "stream",
     "text": [
      " pasajero\n"
     ]
    },
    {
     "name": "stdout",
     "output_type": "stream",
     "text": [
      "Ese no lo tengo, ¿mola?\n"
     ]
    }
   ],
   "source": [
    "#print(libreria)\n",
    "#print(help(libreria))\n",
    "print(\"Dime un libro\")\n",
    "\n",
    "libro_deseado=input()\n",
    "\n",
    "if libro_deseado in libreria:\n",
    "    print(\"le tengo\")\n",
    "else:\n",
    "    print(\"Ese no lo tengo, ¿mola?\")\n",
    "\n",
    "\n",
    "\n"
   ]
  },
  {
   "cell_type": "markdown",
   "metadata": {
    "id": "17YOpYuFRWxJ"
   },
   "source": [
    "## Ejercicio 10\n",
    "Convierte el programa del ejercicio 2 en una función al que se le pase el valor a buscar como un argumento posicional"
   ]
  },
  {
   "cell_type": "code",
   "execution_count": 236,
   "metadata": {
    "id": "xbj0LgvnRWxJ"
   },
   "outputs": [
    {
     "name": "stdin",
     "output_type": "stream",
     "text": [
      "pon un numero k\n"
     ]
    },
    {
     "name": "stdout",
     "output_type": "stream",
     "text": [
      "binario : 1 indice: 3\n",
      "es : 1 indice: 4\n"
     ]
    }
   ],
   "source": [
    "ejer_3 = [\"Un\", \"árbol\", \"binario\", \"es\", \"una\", \"estructura\", \"de\", \"un\", \"tipo\", \"particular\", \"a\", \"veces\", \"no\", \"es\", \"ni\", \"binario\"]\n",
    "\n",
    "repeticiones={}\n",
    "\n",
    "#Suponniendo Un y un son distintos..\n",
    "for i in ejer_3:\n",
    "    if i in repeticiones:\n",
    "        repeticiones[i]+=1\n",
    "    else:\n",
    "        repeticiones[i]=0\n",
    "        \n",
    "for key, value in repeticiones.items():\n",
    "    if value !=0:\n",
    "        print(key, \":\", value, \"indice:\", ejer_3.index(key)+1)\n"
   ]
  },
  {
   "cell_type": "code",
   "execution_count": 91,
   "metadata": {},
   "outputs": [
    {
     "name": "stdin",
     "output_type": "stream",
     "text": [
      " de\n"
     ]
    },
    {
     "name": "stdout",
     "output_type": "stream",
     "text": [
      "0\n",
      "La palabra esta, se repite: 1 vece(s), en la posicion 7\n"
     ]
    }
   ],
   "source": [
    "ejer_3 = [\"Un\", \"árbol\", \"binario\", \"es\", \"una\", \"estructura\", \"de\", \"un\", \"tipo\", \"particular\", \"a\", \"veces\", \"no\", \"es\", \"ni\", \"binario\"]\n",
    "repeticiones={}\n",
    "for i in ejer_3:\n",
    "    if i in repeticiones:\n",
    "        repeticiones[i]+=1\n",
    "    else:\n",
    "        repeticiones[i]=0\n",
    "\n",
    "\n",
    "palabra=input()\n",
    "print(repeticiones[palabra])\n",
    "\n",
    "def buscador(item):\n",
    "    if item in ejer_3:\n",
    "        largo= ejer_3.index(item)\n",
    "    return largo\n",
    "    \n",
    "if palabra in ejer_3:\n",
    "    print(\"La palabra esta, se repite:\", (int(repeticiones[palabra]+1)), \"vece(s), en la posicion\", (buscador(palabra)+1))#posicion de verdad (empezando por 1 en vez de 0)\n",
    "else:\n",
    "    print(\"La palabra no esta\")"
   ]
  },
  {
   "cell_type": "markdown",
   "metadata": {
    "id": "xZ-sWJxPRWxJ"
   },
   "source": [
    "## Ejercicio 11\n",
    "Convierte el programa del ejercicio 9 en una función al que se le pasen como argumentos la librería, posicional, y el título, argumento keyword con valor \"ninguno\", por defecto."
   ]
  },
  {
   "cell_type": "code",
   "execution_count": 135,
   "metadata": {},
   "outputs": [],
   "source": [
    "libreria=[]\n",
    "libro1={\"titulo\":\"El último pasajero\",  \n",
    "        \"autor\":\"Manel Loureiro\",  \n",
    "        \"idioma original\":\"Español\",  \n",
    "        \"año de publicación\":\"2013\"}\n",
    "\n",
    "libreria.append(libro1)\n",
    "\n",
    "libro2={\"titulo\":\"Las tres vidas de Sofonisba\",  \n",
    "        \"autor\":\"Jose Docavo Alberti \",  \n",
    "        \"idioma original\":\"Español\",  \n",
    "        \"año de publicación\":\"2024\"}\n",
    "libreria.append(libro2)\n",
    "\n",
    "libro3={\"titulo\":\"El alma de las flores\",  \n",
    "        \"autor\":\"Viviana Rivero\",  \n",
    "        \"idioma original\":\"Español\",  \n",
    "        \"año de publicación\":\"2020\"}\n",
    "libreria.append(libro3)\n",
    "\n",
    "libro4={\"titulo\":\"El brillo de las luciérnagas\",  \n",
    "        \"autor\":\"Paul Pen\",  \n",
    "        \"idioma original\":\"Español\",  \n",
    "        \"año de publicación\":\"2013\"}\n",
    "libreria.append(libro4)"
   ]
  },
  {
   "cell_type": "code",
   "execution_count": 134,
   "metadata": {},
   "outputs": [
    {
     "name": "stdin",
     "output_type": "stream",
     "text": [
      "posicion(empezando por 0) 0\n",
      "introduzca titulo f\n"
     ]
    },
    {
     "name": "stdout",
     "output_type": "stream",
     "text": [
      "{'titulo': 'f', 'autor': 'ninguno', 'idioma original': 'ninguno', 'año de publicación': 'ninguno'}\n"
     ]
    },
    {
     "name": "stdin",
     "output_type": "stream",
     "text": [
      "introduzca autor f\n",
      "introduzca idioma original f\n",
      "introduzca año de publicacion f\n"
     ]
    },
    {
     "name": "stdout",
     "output_type": "stream",
     "text": [
      "[{'titulo': 'f', 'autor': 'f', 'idioma original': 'f', 'año de publicación': 'f'}, {'titulo': 'El último pasajero', 'autor': 'Manel Loureiro', 'idioma original': 'Español', 'año de publicación': '2013'}, {'titulo': 'Las tres vidas de Sofonisba', 'autor': 'Jose Docavo Alberti ', 'idioma original': 'Español', 'año de publicación': '2024'}, {'titulo': 'El alma de las flores', 'autor': 'Viviana Rivero', 'idioma original': 'Español', 'año de publicación': '2020'}, {'titulo': 'El brillo de las luciérnagas', 'autor': 'Paul Pen', 'idioma original': 'Español', 'año de publicación': '2013'}, {'titulo': '0', 'autor': '0', 'idioma original': '0', 'año de publicación': '0'}]\n"
     ]
    }
   ],
   "source": [
    "##### #hago el diccionario por defecto\n",
    "libro5={\"titulo\":\"ninguno\",  \n",
    "        \"autor\":\"ninguno\",  \n",
    "        \"idioma original\":\"ninguno\",  \n",
    "        \"año de publicación\":\"ninguno\"}\n",
    "#pido input\n",
    "\n",
    "\n",
    "4\n",
    "\n",
    "\n",
    "posicion_in=input(\"posicion(empezando por 0)\")  \n",
    "\n",
    "titulo_in =input(\"introduzca titulo\")\n",
    "#cambio la el nombre de cada clave\n",
    "\n",
    "libro5[\"titulo\"]=titulo_in\n",
    "print(libro5)\n",
    "autor_in =input(\"introduzca autor\")\n",
    "libro5[\"autor\"]=autor_in\n",
    "idioma_in =input(\"introduzca idioma original\")\n",
    "libro5[\"idioma original\"]=idioma_in\n",
    "publicacion_in=input(\"introduzca año de publicacion\")\n",
    "libro5[\"año de publicación\"]=publicacion_in\n",
    "#pongo introducco el libro\n",
    "libreria.insert(int(posicion_in), libro5)\n",
    "        \n",
    "\n",
    "\n",
    "print(libreria)\n",
    "\n"
   ]
  },
  {
   "cell_type": "code",
   "execution_count": null,
   "metadata": {},
   "outputs": [],
   "source": []
  },
  {
   "cell_type": "markdown",
   "metadata": {
    "id": "FtJir95QRWxK"
   },
   "source": [
    "## Ejercicio 12\n",
    "Solicitar al usuario que ingrese su dirección email. Imprimir un mensaje indicando si la dirección es válida o no, valiéndose de una función para decidirlo. Una dirección se considerará válida si contiene el símbolo \"@\"."
   ]
  },
  {
   "cell_type": "code",
   "execution_count": 73,
   "metadata": {
    "id": "sk852IZ8RWxK"
   },
   "outputs": [
    {
     "name": "stdin",
     "output_type": "stream",
     "text": [
      "introduzca e-mail: falso@\n"
     ]
    },
    {
     "name": "stdout",
     "output_type": "stream",
     "text": [
      "valido\n"
     ]
    }
   ],
   "source": [
    "e_mail=input(\"introduzca e-mail:\")\n",
    "\n",
    "if '@' in e_mail:\n",
    "    print(\"valido\") \n",
    "else: \n",
    "    print(\"No valido\")\n",
    "        "
   ]
  },
  {
   "cell_type": "markdown",
   "metadata": {
    "id": "Kw1MWBwBRWxK"
   },
   "source": [
    "## Ejercicio 13\n",
    "Escribe una función que compruebe si un DNI es válido, devolviendo `True` en caso afirmativo.  \n",
    "En primer lugar, el DNI debe tener entre 7 y 8 dígitos numéricos.  \n",
    "Para saber si la letra del DNI es correcta puedes utilizar el siguiente fragmento de código:\n",
    ">```Python\n",
    ">DNI= 55555555\n",
    ">palabra='TRWAGMYFPDXBNJZSQVHLCKE'\n",
    ">print('La letra del DNI es: ', palabra[DNI%23])\n",
    ">````\n"
   ]
  },
  {
   "cell_type": "code",
   "execution_count": 167,
   "metadata": {},
   "outputs": [
    {
     "name": "stdout",
     "output_type": "stream",
     "text": [
      "La letra del DNI es:  K\n"
     ]
    }
   ],
   "source": [
    "DNI= 55555555\n",
    "palabra='TRWAGMYFPDXBNJZSQVHLCKE'\n",
    "print('La letra del DNI es: ', palabra[DNI%23])"
   ]
  },
  {
   "cell_type": "code",
   "execution_count": 168,
   "metadata": {
    "id": "F5Z9rSHqRWxK"
   },
   "outputs": [
    {
     "name": "stdin",
     "output_type": "stream",
     "text": [
      "introduzca numerorsDNI 55555555\n",
      "introduzca letra del DNI K\n"
     ]
    },
    {
     "name": "stdout",
     "output_type": "stream",
     "text": [
      "True\n"
     ]
    }
   ],
   "source": [
    "DNI=int(input(\"introduzca numerorsDNI\")) #entero porque el codigo de arriga lo requiere\n",
    "letra=(input(\"introduzca letra del DNI\")).upper()\n",
    "palabra='TRWAGMYFPDXBNJZSQVHLCKE'\n",
    "#print('La letra del DNI es: ', palabra[DNI%23])\n",
    "\n",
    "if not 8>=len(str(DNI))>=7:#Mido lo largo str porque len solo es para str\n",
    "    print(False)\n",
    "else:#compruebo letra\n",
    "    print(letra==palabra[DNI%23])\n",
    "   "
   ]
  }
 ],
 "metadata": {
  "colab": {
   "provenance": []
  },
  "kernelspec": {
   "display_name": "Python 3 (ipykernel)",
   "language": "python",
   "name": "python3"
  },
  "language_info": {
   "codemirror_mode": {
    "name": "ipython",
    "version": 3
   },
   "file_extension": ".py",
   "mimetype": "text/x-python",
   "name": "python",
   "nbconvert_exporter": "python",
   "pygments_lexer": "ipython3",
   "version": "3.12.8"
  }
 },
 "nbformat": 4,
 "nbformat_minor": 4
}
